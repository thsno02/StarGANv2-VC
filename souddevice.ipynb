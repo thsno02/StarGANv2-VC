{
 "cells": [
  {
   "cell_type": "markdown",
   "metadata": {},
   "source": [
    "# Default Setting"
   ]
  },
  {
   "cell_type": "code",
   "execution_count": 6,
   "metadata": {},
   "outputs": [
    {
     "data": {
      "text/plain": [
       "['high', 'high']"
      ]
     },
     "execution_count": 6,
     "metadata": {},
     "output_type": "execute_result"
    },
    {
     "data": {
      "text/plain": [
       "[None, None]"
      ]
     },
     "execution_count": 6,
     "metadata": {},
     "output_type": "execute_result"
    },
    {
     "data": {
      "text/plain": [
       "0"
      ]
     },
     "execution_count": 6,
     "metadata": {},
     "output_type": "execute_result"
    },
    {
     "data": {
      "text/plain": [
       "False"
      ]
     },
     "execution_count": 6,
     "metadata": {},
     "output_type": "execute_result"
    },
    {
     "data": {
      "text/plain": [
       "False"
      ]
     },
     "execution_count": 6,
     "metadata": {},
     "output_type": "execute_result"
    }
   ],
   "source": [
    "# TODO: this chuck can be written as an initialization function in the script with enables to automatically detect the connection \n",
    "#   between the paired bluetooth devices and the PC\n",
    "import sounddevice as sd\n",
    "\n",
    "# # enable to detect bluetooth devices, if and only if the devices are paired\n",
    "# sd._terminate()\n",
    "# sd._initialize()\n",
    "sd.default.reset() # reset all the default setting\n",
    "fs = 24000\n",
    "sd.default.samplerate = fs # specify sample rate\n",
    "sd.default.channels = 2\n",
    "sd.default.dtype = 'float32', 'float32' # specify data type\n",
    "sd.default.channels = 1, 2 # specify the input/output channels\n",
    "# sd.default.device = input_device, ouput_device \n",
    "sd.default.latency\n",
    "sd.default.extra_settings\n",
    "sd.default.blocksize\n",
    "sd.default.clip_off\n",
    "sd.default.never_drop_input\n",
    "sd.default.prime_output_buffers_using_stream_callback = False # fill initial buffers with zeros (silence)"
   ]
  },
  {
   "cell_type": "code",
   "execution_count": 7,
   "metadata": {},
   "outputs": [
    {
     "data": {
      "text/plain": [
       "> 0 External Microphone, Core Audio (1 in, 0 out)\n",
       "< 1 External Headphones, Core Audio (0 in, 2 out)\n",
       "  2 MacBook Pro Microphone, Core Audio (1 in, 0 out)\n",
       "  3 MacBook Pro Speakers, Core Audio (0 in, 2 out)\n",
       "  4 ZoomAudioDevice, Core Audio (2 in, 2 out)"
      ]
     },
     "execution_count": 7,
     "metadata": {},
     "output_type": "execute_result"
    }
   ],
   "source": [
    "sd.query_devices()\n",
    "sd.default.device = 0, 1"
   ]
  },
  {
   "cell_type": "code",
   "execution_count": 15,
   "metadata": {},
   "outputs": [],
   "source": [
    "import sounddevice as sd\n",
    "\n",
    "duration = 10\n",
    "t = sd.rec(int(duration * fs))"
   ]
  },
  {
   "cell_type": "code",
   "execution_count": 26,
   "metadata": {},
   "outputs": [
    {
     "data": {
      "text/plain": [
       "<sounddevice.CallbackFlags: no flags set>"
      ]
     },
     "execution_count": 26,
     "metadata": {},
     "output_type": "execute_result"
    }
   ],
   "source": [
    "sd.get_status()"
   ]
  },
  {
   "cell_type": "code",
   "execution_count": 19,
   "metadata": {},
   "outputs": [],
   "source": [
    "sd.play(t)"
   ]
  },
  {
   "cell_type": "code",
   "execution_count": 21,
   "metadata": {},
   "outputs": [],
   "source": [
    "t2 = sd.playrec(t)"
   ]
  },
  {
   "cell_type": "code",
   "execution_count": 25,
   "metadata": {},
   "outputs": [],
   "source": [
    "sd.play(t2)"
   ]
  }
 ],
 "metadata": {
  "interpreter": {
   "hash": "73b26bda67448e066e876fb3a5c3a56b69bad428bb00d7bd0b70474ad3f557e5"
  },
  "kernelspec": {
   "display_name": "Python 3.9.12 ('vc')",
   "language": "python",
   "name": "python3"
  },
  "language_info": {
   "codemirror_mode": {
    "name": "ipython",
    "version": 3
   },
   "file_extension": ".py",
   "mimetype": "text/x-python",
   "name": "python",
   "nbconvert_exporter": "python",
   "pygments_lexer": "ipython3",
   "version": "3.9.12"
  },
  "orig_nbformat": 4
 },
 "nbformat": 4,
 "nbformat_minor": 2
}
