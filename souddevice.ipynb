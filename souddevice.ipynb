{
 "cells": [
  {
   "cell_type": "markdown",
   "metadata": {},
   "source": [
    "# Default Setting"
   ]
  },
  {
   "cell_type": "code",
   "execution_count": null,
   "metadata": {},
   "outputs": [],
   "source": [
    "# TODO: this chuck can be written as an initialization function in the script with enables to automatically detect the connection \n",
    "#   between the paired bluetooth devices and the PC\n",
    "import sounddevice as sd\n",
    "\n",
    "# # enable to detect bluetooth devices, if and only if the devices are paired\n",
    "sd._terminate()\n",
    "sd._initialize()\n",
    "sd.default.reset() # reset all the default setting\n",
    "fs = 24000\n",
    "sd.default.samplerate = fs # specify sample rate\n",
    "sd.default.channels = 1, 2\n",
    "sd.default.dtype = 'float32', 'float32' # specify data type\n",
    "sd.default.channels = 1, 2 # specify the input/output channels\n",
    "# sd.default.device = input_device, ouput_device \n",
    "sd.default.latency\n",
    "sd.default.extra_settings\n",
    "sd.default.blocksize\n",
    "sd.default.clip_off\n",
    "sd.default.never_drop_input\n",
    "sd.default.prime_output_buffers_using_stream_callback = False # fill initial buffers with zeros (silence)"
   ]
  },
  {
   "cell_type": "code",
   "execution_count": null,
   "metadata": {},
   "outputs": [],
   "source": [
    "sd.query_devices()\n",
    "sd.default.device = 0, 1"
   ]
  },
  {
   "cell_type": "code",
   "execution_count": null,
   "metadata": {},
   "outputs": [],
   "source": [
    "import sounddevice as sd\n",
    "\n",
    "duration = 10\n",
    "t = sd.rec(int(duration * fs))"
   ]
  },
  {
   "cell_type": "code",
   "execution_count": null,
   "metadata": {},
   "outputs": [],
   "source": [
    "t"
   ]
  },
  {
   "cell_type": "code",
   "execution_count": null,
   "metadata": {},
   "outputs": [],
   "source": [
    "sd.get_status()"
   ]
  },
  {
   "cell_type": "code",
   "execution_count": null,
   "metadata": {},
   "outputs": [],
   "source": [
    "sd.play(t)"
   ]
  },
  {
   "cell_type": "code",
   "execution_count": null,
   "metadata": {},
   "outputs": [],
   "source": [
    "t2 = sd.playrec(t)"
   ]
  },
  {
   "cell_type": "code",
   "execution_count": null,
   "metadata": {},
   "outputs": [],
   "source": [
    "sd.play(t2)"
   ]
  },
  {
   "cell_type": "markdown",
   "metadata": {},
   "source": [
    "# Recording with Arbitrary Duration"
   ]
  },
  {
   "cell_type": "code",
   "execution_count": null,
   "metadata": {},
   "outputs": [],
   "source": [
    "import sounddevice as sd\n",
    "import numpy as np\n",
    "\n",
    "sd.default.reset() # reset all the default setting\n",
    "fs = 24000\n",
    "sd.default.samplerate = fs # specify sample rate\n",
    "sd.default.channels = 1, 2\n",
    "sd.default.dtype = 'float32', 'float32' # specify data type\n",
    "sd.default.channels = 1, 2 # specify the input/output channels"
   ]
  },
  {
   "cell_type": "code",
   "execution_count": 5,
   "metadata": {},
   "outputs": [
    {
     "data": {
      "text/plain": [
       "> 0 External Microphone, Core Audio (1 in, 0 out)\n",
       "< 1 External Headphones, Core Audio (0 in, 2 out)\n",
       "  2 MacBook Pro Microphone, Core Audio (1 in, 0 out)\n",
       "  3 MacBook Pro Speakers, Core Audio (0 in, 2 out)\n",
       "  4 ZoomAudioDevice, Core Audio (2 in, 2 out)"
      ]
     },
     "execution_count": 5,
     "metadata": {},
     "output_type": "execute_result"
    }
   ],
   "source": [
    "sd.query_devices()"
   ]
  },
  {
   "cell_type": "code",
   "execution_count": 8,
   "metadata": {},
   "outputs": [
    {
     "data": {
      "text/plain": [
       "{'name': 'External Microphone',\n",
       " 'hostapi': 0,\n",
       " 'max_input_channels': 1,\n",
       " 'max_output_channels': 0,\n",
       " 'default_low_input_latency': 0.004625,\n",
       " 'default_low_output_latency': 0.01,\n",
       " 'default_high_input_latency': 0.013958333333333333,\n",
       " 'default_high_output_latency': 0.1,\n",
       " 'default_samplerate': 48000.0}"
      ]
     },
     "execution_count": 8,
     "metadata": {},
     "output_type": "execute_result"
    }
   ],
   "source": [
    "sd.query_devices()[0]"
   ]
  },
  {
   "cell_type": "code",
   "execution_count": 6,
   "metadata": {},
   "outputs": [
    {
     "name": "stdout",
     "output_type": "stream",
     "text": [
      "################################################################################\n",
      "press Ctrl+C to stop the recording\n",
      "################################################################################\n",
      "\n",
      "Recording finished: costs 4.677999973297119 (133032, 1)\n",
      "\n",
      "Playing finished: costs 5.716684103012085\n"
     ]
    }
   ],
   "source": [
    "import sounddevice as sd\n",
    "import numpy as np\n",
    "import time\n",
    "import queue\n",
    "\n",
    "sd._terminate()\n",
    "sd._initialize()\n",
    "sd.default.reset()  # reset all the default setting\n",
    "fs = 24000\n",
    "sd.default.samplerate = fs  # specify sample rate\n",
    "sd.default.channels = 1, 2\n",
    "sd.default.dtype = 'float32', 'float32'  # specify data type\n",
    "sd.default.channels = 1, 2  # specify the input/output channels\n",
    "\n",
    "audio = np.zeros(shape=(24000, 1))\n",
    "q = queue.Queue()\n",
    "\n",
    "\n",
    "def callback(in_data, frames, time, status):\n",
    "    \"\"\"This is called (from a separate thread) for each audio block.\"\"\"\n",
    "    q.put(in_data.copy())\n",
    "\n",
    "try:\n",
    "    with sd.InputStream(samplerate=24000,\n",
    "                        device='External Microphone',\n",
    "                        dtype='float32',\n",
    "                        channels=1,\n",
    "                        callback=callback):\n",
    "        start_time = time.time()\n",
    "\n",
    "        print('#' * 80)\n",
    "        print('press Ctrl+C to stop the recording')\n",
    "        print('#' * 80)\n",
    "        while True:\n",
    "            audio = np.append(audio, q.get(), axis=0)\n",
    "except KeyboardInterrupt:\n",
    "    end_time = time.time()\n",
    "    print('\\nRecording finished: costs {} {}'.format(end_time - start_time,\n",
    "                                                     np.shape(audio)))\n",
    "    start_time = time.time()\n",
    "    sd.play(audio)\n",
    "    sd.wait()\n",
    "    end_time = time.time()\n",
    "    print('\\nPlaying finished: costs {}'.format(end_time - start_time))"
   ]
  },
  {
   "cell_type": "code",
   "execution_count": null,
   "metadata": {},
   "outputs": [],
   "source": [
    "np.shape(audio)"
   ]
  }
 ],
 "metadata": {
  "interpreter": {
   "hash": "73b26bda67448e066e876fb3a5c3a56b69bad428bb00d7bd0b70474ad3f557e5"
  },
  "kernelspec": {
   "display_name": "Python 3.9.12 ('vc')",
   "language": "python",
   "name": "python3"
  },
  "language_info": {
   "codemirror_mode": {
    "name": "ipython",
    "version": 3
   },
   "file_extension": ".py",
   "mimetype": "text/x-python",
   "name": "python",
   "nbconvert_exporter": "python",
   "pygments_lexer": "ipython3",
   "version": "3.9.12"
  },
  "orig_nbformat": 4
 },
 "nbformat": 4,
 "nbformat_minor": 2
}
